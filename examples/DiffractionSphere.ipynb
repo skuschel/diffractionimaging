{
 "cells": [
  {
   "cell_type": "code",
   "execution_count": null,
   "id": "6f68dcf2-e446-4aa7-8467-49e60186c24c",
   "metadata": {},
   "outputs": [],
   "source": [
    "# Stephan Kuschel, 2022\n",
    "\n",
    "%matplotlib inline\n",
    "import matplotlib.pyplot as plt\n",
    "from matplotlib.colors import LogNorm\n",
    "import numpy as np\n",
    "import diffractionimaging.clustersize as dc"
   ]
  },
  {
   "cell_type": "markdown",
   "id": "1a4d2fa0-79e2-49b3-91c3-72891dc00a1f",
   "metadata": {},
   "source": [
    "# Create example diffraction pattern"
   ]
  },
  {
   "cell_type": "code",
   "execution_count": null,
   "id": "f85e40e8-7a66-48a9-b5e8-968882b070d4",
   "metadata": {},
   "outputs": [],
   "source": [
    "trueparams = (1, 30)\n",
    "x = np.linspace(-200,200,401)  # use pixel as unit\n",
    "xx, yy = np.meshgrid(x, x)\n",
    "r = np.sqrt(xx**2 + yy**2)\n",
    "img = dc.diffraction_sphere(r, *trueparams)"
   ]
  },
  {
   "cell_type": "code",
   "execution_count": null,
   "id": "8eb3903b-bd4a-4acf-a425-f3c37b901078",
   "metadata": {},
   "outputs": [],
   "source": [
    "plt.imshow(img, norm=LogNorm(1e-5,1))"
   ]
  },
  {
   "cell_type": "markdown",
   "id": "4688562b-46e3-4821-8b6e-a95275fbb330",
   "metadata": {},
   "source": [
    "# Calculate the radial profile"
   ]
  },
  {
   "cell_type": "code",
   "execution_count": null,
   "id": "b5bee706-c310-4c4b-a68c-63d78f4a3472",
   "metadata": {},
   "outputs": [],
   "source": [
    "rprof = dc.radial_profile(img)\n",
    "fig, ax = plt.subplots()\n",
    "ax.plot(rprof)\n",
    "ax.set_yscale('log')"
   ]
  },
  {
   "cell_type": "markdown",
   "id": "84d91e8c-46ca-437f-96b2-8002c4a1b53e",
   "metadata": {},
   "source": [
    "# Use the linfit to estimate the position of the first minimum"
   ]
  },
  {
   "cell_type": "code",
   "execution_count": null,
   "id": "911a4da7-007c-4495-81ca-bd42ec3d5437",
   "metadata": {},
   "outputs": [],
   "source": [
    "linfit = dc.diffraction_pattern_extrema_linfit(rprof)\n",
    "print(linfit)\n",
    "guess = dc.linfit2guess(linfit)\n",
    "print(guess)"
   ]
  },
  {
   "cell_type": "markdown",
   "id": "7c7aaa60-cf82-4d4c-8e9c-8dd29b7385c8",
   "metadata": {},
   "source": [
    "# Use the estimate as the starting value for the fit"
   ]
  },
  {
   "cell_type": "code",
   "execution_count": null,
   "id": "d774d7db-357f-48c3-9624-145cd1e2175d",
   "metadata": {},
   "outputs": [],
   "source": [
    "# return I0 and minpos\n",
    "popt = dc.fit_diffraction_sphere(rprof, None, guess)\n",
    "print(popt[0])\n",
    "print(trueparams)\n"
   ]
  },
  {
   "cell_type": "markdown",
   "id": "f5ad4513-db56-420f-8914-4f485533a051",
   "metadata": {},
   "source": [
    "# All in one go"
   ]
  },
  {
   "cell_type": "code",
   "execution_count": null,
   "id": "8e7ad6af-eaf0-4397-a068-3a88755edeb5",
   "metadata": {},
   "outputs": [],
   "source": [
    "dc.autofit_sphere(img)"
   ]
  },
  {
   "cell_type": "code",
   "execution_count": null,
   "id": "3ca5aee3-a00c-4935-884d-983276b25624",
   "metadata": {},
   "outputs": [],
   "source": []
  },
  {
   "cell_type": "code",
   "execution_count": null,
   "id": "d6904801-cb69-43ab-a669-10c7e9c0a1e0",
   "metadata": {},
   "outputs": [],
   "source": []
  },
  {
   "cell_type": "code",
   "execution_count": null,
   "id": "1450c078-fcfb-411a-8a98-2dec64af5d4c",
   "metadata": {},
   "outputs": [],
   "source": []
  }
 ],
 "metadata": {
  "kernelspec": {
   "display_name": "Python 3 (ipykernel)",
   "language": "python",
   "name": "python3"
  },
  "language_info": {
   "codemirror_mode": {
    "name": "ipython",
    "version": 3
   },
   "file_extension": ".py",
   "mimetype": "text/x-python",
   "name": "python",
   "nbconvert_exporter": "python",
   "pygments_lexer": "ipython3",
   "version": "3.10.5"
  }
 },
 "nbformat": 4,
 "nbformat_minor": 5
}
